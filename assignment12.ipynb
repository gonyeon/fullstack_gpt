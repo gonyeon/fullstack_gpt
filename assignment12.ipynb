{
 "cells": [
  {
   "cell_type": "code",
   "execution_count": 29,
   "metadata": {},
   "outputs": [],
   "source": [
    "from langchain.chat_models import ChatOpenAI\n",
    "from langchain.prompts import ChatPromptTemplate, MessagesPlaceholder\n",
    "from langchain.prompts.few_shot import FewShotChatMessagePromptTemplate\n",
    "from langchain.memory import ConversationSummaryBufferMemory\n",
    "from langchain.callbacks import StreamingStdOutCallbackHandler\n",
    "from langchain.schema.runnable import RunnablePassthrough\n",
    "\n",
    "llm = ChatOpenAI(\n",
    "    temperature=0.1,\n",
    "    streaming=True,\n",
    "    callbacks=[StreamingStdOutCallbackHandler()],\n",
    ")\n",
    "\n",
    "memory = ConversationSummaryBufferMemory(\n",
    "    llm=llm,\n",
    "    max_token_limit=600,\n",
    "    return_messages=True,\n",
    ")\n",
    "\n",
    "examples = [\n",
    "    {\n",
    "        \"movie\": \"타이타닉\",\n",
    "        \"answer\": \"🚢💔🌊\",\n",
    "    },\n",
    "    {\n",
    "        \"movie\": \"스타워즈\",\n",
    "        \"answer\": \"🌌🚀⚔️\",\n",
    "    },\n",
    "    {\n",
    "        \"movie\": \"반지의 제왕\",\n",
    "        \"answer\": \"💍🌋🧙‍♂️\",\n",
    "    },   \n",
    "]\n",
    "\n",
    "prom_Template = ChatPromptTemplate.from_messages(\n",
    "    [\n",
    "        ('system', \"너는 세계 최고의 영화 평론가야. 하지만 아쉽게도 너는 표현의 자유를 얻지 못했어. 너는 이모티콘으로만 영화를 설명할 수 있으며, 어떠한 경우에도 3개의 이모티콘으로만 영화를 표현할 수 밖에 없어.\"),\n",
    "        (\"human\", \"{movie}에 대해서 설명해줘\"),\n",
    "        (\"ai\", \"{answer}\")\n",
    "    ]\n",
    ")\n",
    "\n",
    "example_prompt = FewShotChatMessagePromptTemplate(\n",
    "    example_prompt=prom_Template,\n",
    "    examples=examples,\n",
    ")\n",
    "\n",
    "final_prompt = ChatPromptTemplate.from_messages(\n",
    "    [\n",
    "        MessagesPlaceholder(variable_name=\"history\"),\n",
    "        example_prompt,\n",
    "        (\"human\", \"{movie_name}\"),\n",
    "    ]\n",
    ")\n",
    "def load_memory(_):\n",
    "    return memory.load_memory_variables({})[\"history\"]\n",
    "\n",
    "chain = RunnablePassthrough.assign(history=load_memory) | final_prompt | llm\n",
    "\n",
    "def invoke_chain(movie_name):\n",
    "    result = chain.invoke({\"movie_name\": movie_name})\n",
    "    memory.save_context(\n",
    "        {\"input\": movie_name}, \n",
    "        {\"output\": result.content})\n",
    "    "
   ]
  },
  {
   "cell_type": "code",
   "execution_count": 30,
   "metadata": {},
   "outputs": [
    {
     "name": "stdout",
     "output_type": "stream",
     "text": [
      "🧟‍♂️🚂🔥"
     ]
    }
   ],
   "source": [
    "invoke_chain('부산행')"
   ]
  },
  {
   "cell_type": "code",
   "execution_count": 31,
   "metadata": {},
   "outputs": [
    {
     "name": "stdout",
     "output_type": "stream",
     "text": [
      "🏠🐜💰"
     ]
    }
   ],
   "source": [
    "invoke_chain('기생충')"
   ]
  },
  {
   "cell_type": "code",
   "execution_count": 32,
   "metadata": {},
   "outputs": [
    {
     "data": {
      "text/plain": [
       "'부산행'"
      ]
     },
     "execution_count": 32,
     "metadata": {},
     "output_type": "execute_result"
    }
   ],
   "source": [
    "memory.load_memory_variables({})['history'][0].content "
   ]
  }
 ],
 "metadata": {
  "kernelspec": {
   "display_name": "env",
   "language": "python",
   "name": "python3"
  },
  "language_info": {
   "codemirror_mode": {
    "name": "ipython",
    "version": 3
   },
   "file_extension": ".py",
   "mimetype": "text/x-python",
   "name": "python",
   "nbconvert_exporter": "python",
   "pygments_lexer": "ipython3",
   "version": "3.11.6"
  }
 },
 "nbformat": 4,
 "nbformat_minor": 2
}
