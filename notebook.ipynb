{
 "cells": [
  {
   "cell_type": "code",
   "execution_count": 1,
   "metadata": {},
   "outputs": [
    {
     "name": "stdout",
     "output_type": "stream",
     "text": [
      "제가 알고 있는 정보는!\n",
      "        영화명: 타이타닉\n",
      "        감독: 제임스 카메론\n",
      "        주요 출연진: 레오나르도 디카프리오, 케이트 윈슬렛\n",
      "        제작비: 약 2억 0천만 달러\n",
      "        흥행수익: 전 세계 18억 4천만 달러 이상\n",
      "        장르: 로맨스, 드라마\n",
      "        개요: 1912년에 발생한 타이타닉호 침몰 사건을 바탕으로 한 영화로, 타이타닉호에 탑승한 젊은 남녀의 사랑 이야기를 그리고 있습니다. 영화는 실제 사건을 배경으로 하면서도 픽션 요소를 더해 로맨틱한 감동을 전하는 작품으로 전 세계적으로 사랑받았습니다."
     ]
    },
    {
     "data": {
      "text/plain": [
       "AIMessageChunk(content='제가 알고 있는 정보는!\\n        영화명: 타이타닉\\n        감독: 제임스 카메론\\n        주요 출연진: 레오나르도 디카프리오, 케이트 윈슬렛\\n        제작비: 약 2억 0천만 달러\\n        흥행수익: 전 세계 18억 4천만 달러 이상\\n        장르: 로맨스, 드라마\\n        개요: 1912년에 발생한 타이타닉호 침몰 사건을 바탕으로 한 영화로, 타이타닉호에 탑승한 젊은 남녀의 사랑 이야기를 그리고 있습니다. 영화는 실제 사건을 배경으로 하면서도 픽션 요소를 더해 로맨틱한 감동을 전하는 작품으로 전 세계적으로 사랑받았습니다.')"
      ]
     },
     "execution_count": 1,
     "metadata": {},
     "output_type": "execute_result"
    }
   ],
   "source": [
    "from langchain.chat_models import ChatOpenAI\n",
    "from langchain.prompts.few_shot import FewShotChatMessagePromptTemplate\n",
    "from langchain.callbacks import StreamingStdOutCallbackHandler\n",
    "from langchain.prompts import ChatMessagePromptTemplate, ChatPromptTemplate\n",
    "\n",
    "chat = ChatOpenAI(\n",
    "    temperature=0.1,\n",
    "    streaming=True,\n",
    "    callbacks=[StreamingStdOutCallbackHandler()],\n",
    ")\n",
    "\n",
    "\n",
    "examples = [\n",
    "    {\n",
    "        \"movie\": \"명량\",\n",
    "        \"answer\": \"\"\"\n",
    "        제가 알고 있는 정보는!\n",
    "        영화명 : 명량\n",
    "        감독 : 김한민\n",
    "        주요출연진 : 최민식, 류승룡, 조진웅\n",
    "        제작비 : 148억원\n",
    "        흥행수익: 약 1100억원\n",
    "        영화의 장르 : 역사, 전쟁\n",
    "        개요 :\"명량\"은 1597년 임진왜란 중 명량해전에서의 이순신 장군의 전투를 그린 영화입니다. 극 중 이순신 장군은 12척의 배로 330척의 일본 함대와 싸우는 역사적인 전투를 지휘하며, 그의 지략과 용맹함을 통해 승리를 이끌어내는 이야기를 담고 있습니다. 영화는 역사적 사실을 바탕으로 한 드라마와 액션이 어우러진 작품입니다.\n",
    "        \"\"\",\n",
    "    },\n",
    "    {\n",
    "        \"movie\": \"설국열차\",\n",
    "        \"answer\": \"\"\"\n",
    "        제가 알고 있는 정보는!\n",
    "        영화명 : 설국열차\n",
    "        감독: 봉준호\n",
    "        주요 출연진: 크리스 에반스, 송강호, 틸다 스윈튼, 제이미 벨, 옥타비아 스펜서, 존 허트, 에드 해리스\n",
    "        제작비: 4000만 달러\n",
    "        흥행수익: 8,680만 달러\n",
    "        영화의 장르: 과학 소설, 액션 스릴러\n",
    "        개요: 지구가 얼어붙은 디스토피아 미래에서 인류의 생존자들이 계급에 따라 분리된 기차 '설국열차'에서 살아가고 있습니다. 기차의 꼬리에서 살고 있는 사람들이 열차의 앞부분으로 진격하며 계급 투쟁을 벌이는 이야기를 다루고 있습니다.\n",
    "        \"\"\",\n",
    "    },\n",
    "    {\n",
    "        \"movie\": \"기생충\",\n",
    "        \"answer\": \"\"\"\n",
    "        제가 알고 있는 정보는!\n",
    "        영화명 : 기생충\n",
    "        감독: 봉준호\n",
    "        주요 출연진: 송강호, 이선균, 조여정, 최우식, 박소담\n",
    "        제작비: 약 1100만 달러\n",
    "        흥행수익: 전 세계 2억 5800만 달러 이상\n",
    "        장르: 블랙 코미디, 스릴러\n",
    "        개요: 부유한 박 가족과 가난한 김 가족의 이야기를 중심으로 펼쳐지며, 김 가족이 박 가족의 집에 침투하여 일어나는 사건을 그린 영화입니다. 사회 계층 간의 격차와 그로 인한 갈등을 통해 현대 사회의 모습을 풍자적으로 그려내고 있습니다.\n",
    "        \"\"\",\n",
    "    },\n",
    "]\n",
    "\n",
    "\n",
    "example_prompt = ChatPromptTemplate.from_messages(\n",
    "    [\n",
    "        (\"human\", \"{movie}에 대해서 알고 있는 정보가 있을까??\"),\n",
    "        (\"ai\", \"{answer}\"),\n",
    "    ]\n",
    ")\n",
    "\n",
    "example_prompt = FewShotChatMessagePromptTemplate(\n",
    "    example_prompt=example_prompt,\n",
    "    examples=examples,\n",
    ")\n",
    "\n",
    "final_prompt = ChatPromptTemplate.from_messages(\n",
    "    [\n",
    "        (\"system\", \"너는 영화에 대해서 매우 해박하며,짧은 답변을 해야해. 주어진 형식에 충실히 대답해야해. 흥행수익은 영화로서 벌어들인 수익을 의미해.\"),\n",
    "        example_prompt,\n",
    "        (\"human\", \"{movie}에 대해서 알고 있는 정보가 있을까??\"),\n",
    "    ]\n",
    ")\n",
    "\n",
    "chain = final_prompt | chat\n",
    "\n",
    "chain.invoke({\"movie\": \"타이타닉\"})"
   ]
  }
 ],
 "metadata": {
  "kernelspec": {
   "display_name": "env",
   "language": "python",
   "name": "python3"
  },
  "language_info": {
   "codemirror_mode": {
    "name": "ipython",
    "version": 3
   },
   "file_extension": ".py",
   "mimetype": "text/x-python",
   "name": "python",
   "nbconvert_exporter": "python",
   "pygments_lexer": "ipython3",
   "version": "3.11.6"
  }
 },
 "nbformat": 4,
 "nbformat_minor": 2
}
